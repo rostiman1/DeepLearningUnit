{
  "nbformat": 4,
  "nbformat_minor": 0,
  "metadata": {
    "coursera": {
      "course_slug": "deep-neural-network",
      "graded_item_id": "SXQaI",
      "launcher_item_id": "UAwhh"
    },
    "kernelspec": {
      "display_name": "Python 3",
      "language": "python",
      "name": "python3"
    },
    "language_info": {
      "codemirror_mode": {
        "name": "ipython",
        "version": 3
      },
      "file_extension": ".py",
      "mimetype": "text/x-python",
      "name": "python",
      "nbconvert_exporter": "python",
      "pygments_lexer": "ipython3",
      "version": "3.6.0"
    },
    "colab": {
      "provenance": [],
      "collapsed_sections": [],
      "include_colab_link": true
    }
  },
  "cells": [
    {
      "cell_type": "markdown",
      "metadata": {
        "id": "view-in-github",
        "colab_type": "text"
      },
      "source": [
        "<a href=\"https://colab.research.google.com/github/rostiman1/DeepLearningUnit/blob/main/Assignment5.ipynb\" target=\"_parent\"><img src=\"https://colab.research.google.com/assets/colab-badge.svg\" alt=\"Open In Colab\"/></a>"
      ]
    },
    {
      "cell_type": "markdown",
      "metadata": {
        "id": "hhmx4kgfyL73"
      },
      "source": [
        "# Weight Initialization and Regularization\n",
        "\n",
        "Welcome to the fifth lab exercise. In this exercise, you will start with various weight initializations and then test various regularization methods. \n",
        "\n",
        "Training your neural network requires specifying an initial value of the weights. A well chosen initialization method will help learning. Again, deep Learning models have so much flexibility and capacity that **overfitting can be a serious problem**, if the training dataset is not big enough. Sure it does well on the training set, but the learned network **doesn't generalize to new examples** that it has never seen!\n",
        "\n",
        "By completeing this exercise, you will learn:\n",
        "\n",
        "\n",
        "*   How different initializations lead to different results and Using well-chosen initialization method\n",
        "*   Reduce overfitting in your deep learning models by using regularization in your deep learning models.\n",
        "\n",
        "### Recommended Reading\n",
        "####Initialization \n",
        "- [Weight Initialization](https://cs231n.github.io/neural-networks-2/#init)\n",
        "\n",
        "- [He initialization](https://www.cv-foundation.org/openaccess/content_iccv_2015/papers/He_Delving_Deep_into_ICCV_2015_paper.pdf), He et al. (2015) \n",
        "\n",
        "- [Xavier initialization](http://proceedings.mlr.press/v9/glorot10a/glorot10a.pdf?source=post_page---------------------------), Xavier et al. (2010) \n",
        "\n",
        "####Regularization\n",
        "\n",
        "- Pattern Recognition and machine learning [Chapter 5](http://users.isr.ist.utl.pt/~wurmd/Livros/school/Bishop%20-%20Pattern%20Recognition%20And%20Machine%20Learning%20-%20Springer%20%202006.pdf) by Christopher M.Bishop \n",
        "\n",
        "- [L1 and L2 Regularization](https://towardsdatascience.com/l1-and-l2-regularization-methods-ce25e7fc831c) \n",
        "\n",
        "- Simple introduction to [Dropout Regularization](https://medium.com/analytics-vidhya/a-simple-introduction-to-dropout-regularization-with-code-5279489dda1e)\n",
        "\n",
        "- [Dropout Regularization](https://machinelearningmastery.com/dropout-for-regularizing-deep-neural-networks/)\n",
        "\n",
        "- [Data Augmentation](https://nanonets.com/blog/data-augmentation-how-to-use-deep-learning-when-you-have-limited-data-part-2/)\n",
        "\n",
        "- [Early Stopping](https://machinelearningmastery.com/early-stopping-to-avoid-overtraining-neural-network-models/)\n",
        "\n",
        "####Batch Normalization\n",
        "[Batch Normalization](https://towardsdatascience.com/batch-normalization-in-neural-networks-1ac91516821c) in neural networks\n"
      ]
    },
    {
      "cell_type": "markdown",
      "metadata": {
        "id": "Yy1D_LbmP25a"
      },
      "source": [
        "Let's get started\n",
        "First of all, mount google drive\n",
        "This will mount the google drive for google colab and you will be able access contents of your drive."
      ]
    },
    {
      "cell_type": "code",
      "metadata": {
        "id": "vjlA2w8JyT3X",
        "colab": {
          "base_uri": "https://localhost:8080/"
        },
        "outputId": "3c54d6fb-8183-4512-e210-56937bc678ae"
      },
      "source": [
        "from google.colab import drive\n",
        "drive.mount('/content/drive')\n",
        "\n",
        "\n",
        "import os\n",
        "os.chdir('/content/drive/My Drive/Deep_learning_unit/Assignment5')\n",
        "folder = os.path.join('/content/drive/My Drive/Deep_learning_unit/Assignment5')\n",
        "!ls"
      ],
      "execution_count": null,
      "outputs": [
        {
          "output_type": "stream",
          "name": "stdout",
          "text": [
            "Mounted at /content/drive\n",
            "Assignment5.ipynb  images    __pycache__   testCases.py\n",
            "datasets\t   __MACOSX  reg_utils.py\n"
          ]
        }
      ]
    },
    {
      "cell_type": "markdown",
      "metadata": {
        "id": "b4ZLip9SQVWm"
      },
      "source": [
        "## 1 - Packages\n",
        "\n",
        "First, let's run the cell below to import all the packages that you will need during this exercise.\n",
        "- [numpy](www.numpy.org) is the fundamental package for scientific computing with Python.\n",
        "- [matplotlib](http://matplotlib.org) is a library to plot graphs in Python.\n",
        "- [sklearn](http://scikit-learn.org/stable/) provides simple and efficient tools for data mining and data analysis. \n",
        "- reg_utils and init_utils provides the necessary functions of the neural network rather than creating them from scratch.\n",
        "- testCases provides some test cases to assess the correctness of your functions.\n",
        "- %matplotlib inline sets the backend of matplotlib to the 'inline' backend.\n",
        "\n"
      ]
    },
    {
      "cell_type": "code",
      "metadata": {
        "id": "8oH0zjdRyL8G"
      },
      "source": [
        "# import packages\n",
        "import numpy as np\n",
        "import matplotlib.pyplot as plt\n",
        "import sklearn\n",
        "import sklearn.datasets\n",
        "import scipy.io\n",
        "from reg_utils import sigmoid, relu, initialize_parameters, compute_cost, forward_propagation, backward_propagation\n",
        "from reg_utils import predict, update_parameters, load_2D_dataset, plot_decision_boundary, predict_dec\n",
        "from testCases import *\n",
        "\n",
        "%matplotlib inline"
      ],
      "execution_count": null,
      "outputs": []
    },
    {
      "cell_type": "markdown",
      "metadata": {
        "id": "ijbcFBU8yL8c"
      },
      "source": [
        "## 2 - Dataset\n",
        "\n",
        "**Problem Statement**: You have just been hired as an AI expert by the French Football Corporation. They would like you to recommend positions where France's goal keeper should kick the ball so that the French team's players can then hit it with their head. \n",
        "\n",
        "The Figure below shows the football field wher the goal keeper kicks the ball in the air, the players of each team are fighting to hit the ball with their head."
      ]
    },
    {
      "cell_type": "code",
      "metadata": {
        "id": "XFJOm7eLTzzT",
        "colab": {
          "base_uri": "https://localhost:8080/",
          "height": 829
        },
        "outputId": "972dab8d-5162-4a48-f5c0-72121ef66da5"
      },
      "source": [
        "from IPython.display import Image \n",
        "Image(open('/content/drive/My Drive/Deep_learning_unit/Assignment5/images/field_kiank.png','rb').read())"
      ],
      "execution_count": null,
      "outputs": [
        {
          "output_type": "execute_result",
          "data": {
            "image/png": "[encoded data removed]",
            "text/plain": [
              "<IPython.core.display.Image object>"
            ]
          },
          "metadata": {},
          "execution_count": 3
        }
      ]
    },
    {
      "cell_type": "markdown",
      "metadata": {
        "id": "nilx59yrVaZc"
      },
      "source": [
        "They give you the following 2D dataset from France's past 10 games.\n",
        "\n",
        "Each dot corresponds to a position on the football field where a football player has hit the ball with his/her head after the French goal keeper has shot the ball from the left side of the football field.\n",
        "- If the dot is blue, it means the French player managed to hit the ball with his/her head\n",
        "- If the dot is red, it means the other team's player hit the ball with their head"
      ]
    },
    {
      "cell_type": "code",
      "metadata": {
        "scrolled": false,
        "id": "ekoneq61yL8d",
        "colab": {
          "base_uri": "https://localhost:8080/",
          "height": 265
        },
        "outputId": "fb47385d-8dca-4812-e06b-0b0bba57e45e"
      },
      "source": [
        "train_X, train_Y, test_X, test_Y = load_2D_dataset()"
      ],
      "execution_count": null,
      "outputs": [
        {
          "output_type": "display_data",
          "data": {
            "text/plain": [
              "<Figure size 432x288 with 1 Axes>"
            ],
            "image/png": "[encoded data removed]"
          },
          "metadata": {
            "needs_background": "light"
          }
        }
      ]
    },
    {
      "cell_type": "markdown",
      "metadata": {
        "id": "A-HMdutRyL8k"
      },
      "source": [
        "**Use a deep learning model to find the positions on the field where the goalkeeper should kick the ball.**\n",
        "\n",
        "This dataset is a little noisy, but it looks like a diagonal line separating the upper left half (blue) from the lower right half (red) would work well. \n",
        "\n"
      ]
    },
    {
      "cell_type": "markdown",
      "metadata": {
        "id": "-WoiXjKA1rxA"
      },
      "source": [
        "## 3- Initialization\n",
        "\n",
        "Training your neural network requires specifying an initial value of the weights. A well chosen initialization method will help learning.  \n",
        "\n",
        "If you completed the previous course of this specialization, you probably followed our instructions for weight initialization, and it has worked out so far. But how do you choose the initialization for a new neural network? In this notebook, you will see how different initializations lead to different results. \n",
        "\n",
        "A well chosen initialization can:\n",
        "- Speed up the convergence of gradient descent\n",
        "- Increase the odds of gradient descent converging to a lower training (and generalization) error \n",
        "\n",
        "You will use a 3-layer neural network (already implemented). Here are the initialization methods you will experiment with:  \n",
        "- *Zeros initialization* --  setting `initialization = \"zeros\"` in the input argument.\n",
        "- *Random initialization* -- setting `initialization = \"random\"` in the input argument. This initializes the weights to large random values.  \n",
        "- *He initialization* -- setting `initialization = \"he\"` in the input argument. This initializes the weights to random values scaled according to a paper by He et al., 2015. \n",
        "\n",
        "**First Step** Please quickly read over the code below, and run it. In the next part you will implement the three initialization methods that this `model()` calls.\n",
        "\n",
        "Use the helper functions you have implemented previously to build an $3$-layer neural network and the functions you may need and their inputs are:\n",
        "```python\n",
        "def initialize_parameters_zeroes(layers_dims): \n",
        "def initialize_parameters_random(layers_dims): \n",
        "def initialize_parameters_he(layers_dims):\n",
        "    ...\n",
        "    return parameters \n",
        "def forward_propagation(X, parameters):\n",
        "    ...\n",
        "    return a3, cache\n",
        "def compute_cost(a3, Y):\n",
        "    ...\n",
        "    return cost\n",
        "def backward_propagation(X, Y, cache):\n",
        "    ...\n",
        "    return grads\n",
        "def update_parameters(parameters, grads, learning_rate):\n",
        "    ...\n",
        "    return parameters\n",
        "```"
      ]
    },
    {
      "cell_type": "code",
      "metadata": {
        "id": "D6pyai2bzdAG"
      },
      "source": [
        "def model(X, Y, learning_rate = 0.01, num_iterations = 15000, print_cost = True, initialization = \"he\"):\n",
        "    \"\"\"\n",
        "    Implements a three-layer neural network: LINEAR->RELU->LINEAR->RELU->LINEAR->SIGMOID.\n",
        "    \n",
        "    Arguments:\n",
        "    X -- input data, of shape (2, number of examples)\n",
        "    Y -- true \"label\" vector (containing 0 for red dots; 1 for blue dots), of shape (1, number of examples)\n",
        "    learning_rate -- learning rate for gradient descent \n",
        "    num_iterations -- number of iterations to run gradient descent\n",
        "    print_cost -- if True, print the cost every 1000 iterations\n",
        "    initialization -- flag to choose which initialization to use (\"zeros\",\"random\" or \"he\")\n",
        "    \n",
        "    Returns:\n",
        "    parameters -- parameters learnt by the model\n",
        "    \"\"\"\n",
        "        \n",
        "    grads = {}\n",
        "    costs = [] # to keep track of the loss\n",
        "    m = X.shape[1] # number of examples\n",
        "    layers_dims = [X.shape[0], 10, 5, 1]\n",
        "    \n",
        "    # Initialize parameters dictionary.\n",
        "    if initialization == \"zeros\":\n",
        "        parameters = initialize_parameters_zeros(layers_dims)\n",
        "    elif initialization == \"random\":\n",
        "        parameters = initialize_parameters_random(layers_dims)\n",
        "    elif initialization == \"he\":\n",
        "        parameters = initialize_parameters_he(layers_dims)\n",
        "\n",
        "    # Loop (gradient descent)\n",
        "\n",
        "    for i in range(0, num_iterations):\n",
        "\n",
        "        # Forward propagation: LINEAR -> RELU -> LINEAR -> RELU -> LINEAR -> SIGMOID.\n",
        "        ### START CODE HERE ### (≈ 1 lines of code)\n",
        "        a3, cache = forward_propagation(X, parameters)\n",
        "        ### END CODE HERE ###\n",
        "\n",
        "        # Loss\n",
        "        ### START CODE HERE ### (≈ 1 lines of code)\n",
        "        cost = compute_cost(a3,Y)\n",
        "        ### END CODE HERE ###\n",
        "\n",
        "        # Backward propagation.\n",
        "        ### START CODE HERE ### (≈ 1 lines of code)\n",
        "        grads = backward_propagation(X, Y, cache)\n",
        "        ### END CODE HERE ###\n",
        "        \n",
        "        # Update parameters.\n",
        "        ### START CODE HERE ### (≈ 1 lines of code)\n",
        "        parameters = update_parameters(parameters,grads,learning_rate)\n",
        "        ### END CODE HERE ###\n",
        "        \n",
        "        # Print the loss every 1000 iterations\n",
        "        if print_cost and i % 1000 == 0:\n",
        "            print(\"Cost after iteration {}: {}\".format(i, cost))\n",
        "            costs.append(cost)\n",
        "            \n",
        "    # plot the loss\n",
        "    plt.plot(costs)\n",
        "    plt.ylabel('cost')\n",
        "    plt.xlabel('iterations (per hundreds)')\n",
        "    plt.title(\"Learning rate =\" + str(learning_rate))\n",
        "    plt.show()\n",
        "    \n",
        "    return parameters"
      ],
      "execution_count": null,
      "outputs": []
    },
    {
      "cell_type": "markdown",
      "metadata": {
        "id": "TsxXBhTTXudU"
      },
      "source": [
        "### 3.1 - Zero Initialization\n",
        "\n",
        "There are two types of parameters to initialize in a neural network:\n",
        "- the weight matrices $(W^{[1]}, W^{[2]}, W^{[3]}, ..., W^{[L-1]}, W^{[L]})$\n",
        "- the bias vectors $(b^{[1]}, b^{[2]}, b^{[3]}, ..., b^{[L-1]}, b^{[L]})$\n",
        "\n",
        "Implement the following function to initialize all parameters to zeros. You'll see later that this does not work well since it fails to \"break symmetry\", but lets try it anyway and see what happens. Use np.zeros((..,..)) with the correct shapes."
      ]
    },
    {
      "cell_type": "code",
      "metadata": {
        "id": "ST9MrIvw1xSh"
      },
      "source": [
        "def initialize_parameters_zeros(layers_dims):\n",
        "    \"\"\"\n",
        "    Arguments:\n",
        "    layer_dims -- python array (list) containing the size of each layer.\n",
        "    \n",
        "    Returns:\n",
        "    parameters -- python dictionary containing your parameters \"W1\", \"b1\", ..., \"WL\", \"bL\":\n",
        "                    W1 -- weight matrix of shape (layers_dims[1], layers_dims[0])\n",
        "                    b1 -- bias vector of shape (layers_dims[1], 1)\n",
        "                    ...\n",
        "                    WL -- weight matrix of shape (layers_dims[L], layers_dims[L-1])\n",
        "                    bL -- bias vector of shape (layers_dims[L], 1)\n",
        "    \"\"\"\n",
        "    \n",
        "    parameters = {}\n",
        "    L = len(layers_dims)            # number of layers in the network\n",
        "    \n",
        "    for l in range(1, L):\n",
        "        ### START CODE HERE ### (≈ 2 lines of code)\n",
        "        parameters['W' + str(l)] = np.zeros((layers_dims[l],layers_dims[l-1]))\n",
        "        parameters['b' + str(l)] = np.zeros((layers_dims[l], 1))\n",
        "\n",
        "        ### END CODE HERE ###\n",
        "    return parameters"
      ],
      "execution_count": null,
      "outputs": []
    },
    {
      "cell_type": "code",
      "metadata": {
        "id": "8JsB_wM513UX",
        "colab": {
          "base_uri": "https://localhost:8080/"
        },
        "outputId": "1fdbcff4-fbe0-48e1-b60e-0c1a4007c565"
      },
      "source": [
        "parameters = initialize_parameters_zeros([3,2,1])\n",
        "print(\"W1 = \" + str(parameters[\"W1\"]))\n",
        "print(\"b1 = \" + str(parameters[\"b1\"]))\n",
        "print(\"W2 = \" + str(parameters[\"W2\"]))\n",
        "print(\"b2 = \" + str(parameters[\"b2\"]))"
      ],
      "execution_count": null,
      "outputs": [
        {
          "output_type": "stream",
          "name": "stdout",
          "text": [
            "W1 = [[0. 0. 0.]\n",
            " [0. 0. 0.]]\n",
            "b1 = [[0.]\n",
            " [0.]]\n",
            "W2 = [[0. 0.]]\n",
            "b2 = [[0.]]\n"
          ]
        }
      ]
    },
    {
      "cell_type": "markdown",
      "metadata": {
        "id": "HR7O2jpsYG7E"
      },
      "source": [
        "**Expected Output**:\n",
        "\n",
        "<table> \n",
        "    <tr>\n",
        "    <td>\n",
        "    **W1**\n",
        "    </td>\n",
        "        <td>\n",
        "    [[ 0.  0.  0.]\n",
        " [ 0.  0.  0.]]\n",
        "    </td>\n",
        "    </tr>\n",
        "    <tr>\n",
        "    <td>\n",
        "    **b1**\n",
        "    </td>\n",
        "        <td>\n",
        "    [[ 0.]\n",
        " [ 0.]]\n",
        "    </td>\n",
        "    </tr>\n",
        "    <tr>\n",
        "    <td>\n",
        "    **W2**\n",
        "    </td>\n",
        "        <td>\n",
        "    [[ 0.  0.]]\n",
        "    </td>\n",
        "    </tr>\n",
        "    <tr>\n",
        "    <td>\n",
        "    **b2**\n",
        "    </td>\n",
        "        <td>\n",
        "    [[ 0.]]\n",
        "    </td>\n",
        "    </tr>\n",
        "\n",
        "</table> "
      ]
    },
    {
      "cell_type": "markdown",
      "metadata": {
        "id": "vztvHqInYPBI"
      },
      "source": [
        "Run the following code to train your model on 15,000 iterations using zeros initialization."
      ]
    },
    {
      "cell_type": "code",
      "metadata": {
        "id": "EWN5v75C16M-"
      },
      "source": [
        "parameters = model(train_X, train_Y, initialization = \"zeros\")\n",
        "print (\"On the Training set\")\n",
        "predictions_train = predict(train_X, train_Y, parameters)\n",
        "print (\"On the Testing set\")\n",
        "predictions_test = predict(test_X, test_Y, parameters)"
      ],
      "execution_count": null,
      "outputs": []
    },
    {
      "cell_type": "markdown",
      "metadata": {
        "id": "Cr2amw0AYkzm"
      },
      "source": [
        "**Expected Output**:\n",
        "\n",
        "<table> \n",
        "    <tr>\n",
        "        <td> **Train Accuracy**</td>\n",
        "        <td> 0.502 </td>\n",
        "    </tr>\n",
        "    <tr>\n",
        "        <td> **Test Accuracy**</td>\n",
        "        <td> 0.435 </td>\n",
        "    </tr>\n",
        "</table>\n",
        "\n",
        "The performance is really bad, and the cost does not really decrease, and the algorithm performs no better than random guessing. Why? Lets look at the details of the predictions and the decision boundary:"
      ]
    },
    {
      "cell_type": "code",
      "metadata": {
        "id": "7STxQMNUYrhm"
      },
      "source": [
        "print (\"predictions_train = \" + str(predictions_train))\n",
        "print (\"predictions_test = \" + str(predictions_test))"
      ],
      "execution_count": null,
      "outputs": []
    },
    {
      "cell_type": "code",
      "metadata": {
        "id": "VRnApu322AlB"
      },
      "source": [
        "plt.title(\"Model with Zeros initialization\")\n",
        "axes = plt.gca()\n",
        "axes.set_xlim([-0.75,0.40])\n",
        "axes.set_ylim([-0.75,0.65])\n",
        "plot_decision_boundary(lambda x: predict_dec(parameters, x.T), train_X, train_Y)"
      ],
      "execution_count": null,
      "outputs": []
    },
    {
      "cell_type": "markdown",
      "metadata": {
        "id": "1i59sAounuMb"
      },
      "source": [
        "The model is predicting 1 for every example. \n",
        "\n",
        "In general, initializing all the weights to zero results in the network failing to break symmetry. This means that every neuron in each layer will learn the same thing, and you might as well be training a neural network with $n^{[l]}=1$ for every layer, and the network is no more powerful than a linear classifier such as logistic regression. "
      ]
    },
    {
      "cell_type": "markdown",
      "metadata": {
        "id": "ASQqbobbn2m5"
      },
      "source": [
        "### 3.2 - Large Random Initialization\n",
        " The weights $W^{[l]}$ should be initialized randomly to break symmetry. It is however okay to initialize the biases $b^{[l]}$ to zeros. Symmetry is still broken as long as $W^{[l]}$ is initialized randomly. \n",
        "\n",
        "Following random initialization, each neuron can then proceed to learn a different function of its inputs. After implementing this, you will see what happens if the weights are intialized randomly, but to very large values. \n",
        "\n",
        "Implement the following function to initialize your weights to large random values (scaled by \\*10) and your biases to zeros. Use `np.random.randn(..,..) * 10` for weights and `np.zeros((.., ..))` for biases. We are using a fixed `np.random.seed(..)` to make sure your \"random\" weights  are same for everyone. "
      ]
    },
    {
      "cell_type": "code",
      "metadata": {
        "id": "FYJdbSal2fNh"
      },
      "source": [
        "def initialize_parameters_random(layers_dims):\n",
        "    \"\"\"\n",
        "    Arguments:\n",
        "    layer_dims -- python array (list) containing the size of each layer.\n",
        "    \n",
        "    Returns:\n",
        "    parameters -- python dictionary containing your parameters \"W1\", \"b1\", ..., \"WL\", \"bL\":\n",
        "                    W1 -- weight matrix of shape (layers_dims[1], layers_dims[0])\n",
        "                    b1 -- bias vector of shape (layers_dims[1], 1)\n",
        "                    ...\n",
        "                    WL -- weight matrix of shape (layers_dims[L], layers_dims[L-1])\n",
        "                    bL -- bias vector of shape (layers_dims[L], 1)\n",
        "    \"\"\"\n",
        "    \n",
        "    np.random.seed(3)               # This seed makes sure your \"random\" numbers will be the as ours\n",
        "    parameters = {}\n",
        "    L = len(layers_dims)            # integer representing the number of layers\n",
        "    \n",
        "    for l in range(1, L):\n",
        "        ### START CODE HERE ### (≈ 2 lines of code)\n",
        "        # Use np.random.randn(..,..) * 10 for weights and np.zeros((.., ..)) for biases\n",
        "        parameters['W' + str(l)] = np.random.randn(layers_dims[l], layers_dims[l - 1]) * 10\n",
        "        parameters['b' + str(l)] = np.zeros((layers_dims[l], 1))\n",
        "        ### END CODE HERE ###\n",
        "\n",
        "    return parameters"
      ],
      "execution_count": null,
      "outputs": []
    },
    {
      "cell_type": "code",
      "metadata": {
        "id": "dzNo-s1E2nED",
        "colab": {
          "base_uri": "https://localhost:8080/"
        },
        "outputId": "dbeffd27-88df-4f2d-f134-6b00023c5bdc"
      },
      "source": [
        "parameters = initialize_parameters_random([3, 2, 1])\n",
        "print(\"W1 = \" + str(parameters[\"W1\"]))\n",
        "print(\"b1 = \" + str(parameters[\"b1\"]))\n",
        "print(\"W2 = \" + str(parameters[\"W2\"]))\n",
        "print(\"b2 = \" + str(parameters[\"b2\"]))"
      ],
      "execution_count": null,
      "outputs": [
        {
          "output_type": "stream",
          "name": "stdout",
          "text": [
            "W1 = [[ 17.88628473   4.36509851   0.96497468]\n",
            " [-18.63492703  -2.77388203  -3.54758979]]\n",
            "b1 = [[0.]\n",
            " [0.]]\n",
            "W2 = [[-0.82741481 -6.27000677]]\n",
            "b2 = [[0.]]\n"
          ]
        }
      ]
    },
    {
      "cell_type": "markdown",
      "metadata": {
        "id": "THknnKxJpIPE"
      },
      "source": [
        "**Expected Output**:\n",
        "\n",
        "<table> \n",
        "    <tr>\n",
        "    <td>\n",
        "    **W1**\n",
        "    </td>\n",
        "        <td>\n",
        "    [[ 17.88628473   4.36509851   0.96497468]\n",
        " [-18.63492703  -2.77388203  -3.54758979]]\n",
        "    </td>\n",
        "    </tr>\n",
        "    <tr>\n",
        "    <td>\n",
        "    **b1**\n",
        "    </td>\n",
        "        <td>\n",
        "    [[ 0.]\n",
        " [ 0.]]\n",
        "    </td>\n",
        "    </tr>\n",
        "    <tr>\n",
        "    <td>\n",
        "    **W2**\n",
        "    </td>\n",
        "        <td>\n",
        "    [[-0.82741481 -6.27000677]]\n",
        "    </td>\n",
        "    </tr>\n",
        "    <tr>\n",
        "    <td>\n",
        "    **b2**\n",
        "    </td>\n",
        "        <td>\n",
        "    [[ 0.]]\n",
        "    </td>\n",
        "    </tr>\n",
        "\n",
        "</table> "
      ]
    },
    {
      "cell_type": "markdown",
      "metadata": {
        "id": "URdNaQgvpLi_"
      },
      "source": [
        "Run the following code to train your model on 15,000 iterations using random initialization."
      ]
    },
    {
      "cell_type": "code",
      "metadata": {
        "id": "Spw2t5u92qzx"
      },
      "source": [
        "parameters = model(train_X, train_Y, initialization = \"random\")\n",
        "print (\"On the training set\")\n",
        "predictions_train = predict(train_X, train_Y, parameters)\n",
        "print (\"On the testing set\")\n",
        "predictions_test = predict(test_X, test_Y, parameters)"
      ],
      "execution_count": null,
      "outputs": []
    },
    {
      "cell_type": "markdown",
      "metadata": {
        "id": "dUtaE8qDpa4A"
      },
      "source": [
        "**Expected Output**:\n",
        "\n",
        "<table> \n",
        "    <tr>\n",
        "        <td> **Train Accuracy**</td>\n",
        "        <td> 0.781 </td>\n",
        "    </tr>\n",
        "    <tr>\n",
        "        <td> **Test Accuracy**</td>\n",
        "        <td> 0.715 </td>\n",
        "    </tr>\n",
        "</table>\n",
        "\n",
        "If you see \"inf\" as the cost after the iteration 0, this is because of numerical roundoff; a more numerically sophisticated implementation would fix this. \n",
        "\n",
        "Anyway, the symmetry has been broken and this gives bit better results and model is no longer outputting all 1's."
      ]
    },
    {
      "cell_type": "code",
      "metadata": {
        "id": "1ZsKhISwqELI"
      },
      "source": [
        "print (predictions_train)\n",
        "print (predictions_test)"
      ],
      "execution_count": null,
      "outputs": []
    },
    {
      "cell_type": "code",
      "metadata": {
        "id": "LATM4oxv2zPI"
      },
      "source": [
        "plt.title(\"Model with large random initialization\")\n",
        "axes = plt.gca()\n",
        "axes.set_xlim([-0.75,0.40])\n",
        "axes.set_ylim([-0.75,0.65])\n",
        "plot_decision_boundary(lambda x: predict_dec(parameters, x.T), train_X, train_Y)"
      ],
      "execution_count": null,
      "outputs": []
    },
    {
      "cell_type": "markdown",
      "metadata": {
        "id": "uYuS-xnEqVol"
      },
      "source": [
        "- The cost starts very high. This is because with large random-valued weights, the last activation (sigmoid) outputs results that are very close to 0 or 1 for some examples, and when it gets that example wrong it incurs a very high loss for that example. Indeed, when $\\log(a^{[3]}) = \\log(0)$, the loss goes to infinity.\n",
        "- Poor initialization can lead to vanishing/exploding gradients, which also slows down the optimization algorithm. \n",
        "- If you train this network longer you will see better results, but initializing with overly large random numbers slows down the optimization.\n"
      ]
    },
    {
      "cell_type": "markdown",
      "metadata": {
        "id": "sJDCX86fvNxv"
      },
      "source": [
        "### 3.3 He Initialization\n",
        "\n",
        "Initializing weights to very large random values does not work well. Hence, let us try intializing with small random values if it does better. \n",
        "\n",
        "Finally, let us try \"He Initialization\"; this is named for the first author of He et al., 2015. (This is similar to \"Xavier initialization\" except that Xavier initialization uses a scaling factor for the weights $W^{[l]}$ of `sqrt(1./layers_dims[l-1])` where He initialization would use `sqrt(2./layers_dims[l-1])`.)\n",
        "\n",
        "Implement the following function to initialize your parameters with He initialization.\n",
        "\n",
        " This function is similar to the previous `initialize_parameters_random(...)`. The only difference is that instead of multiplying `np.random.randn(..,..)` by 10, you will multiply it by $\\sqrt{\\frac{2}{\\text{dimension of the previous layer}}}$, which is what He initialization recommends for layers with a ReLU activation. \n",
        "\n"
      ]
    },
    {
      "cell_type": "code",
      "metadata": {
        "id": "Vzx-D3sM28Z0"
      },
      "source": [
        "def initialize_parameters_he(layers_dims):\n",
        "    \"\"\"\n",
        "    Arguments:\n",
        "    layer_dims -- python array (list) containing the size of each layer.\n",
        "    \n",
        "    Returns:\n",
        "    parameters -- python dictionary containing your parameters \"W1\", \"b1\", ..., \"WL\", \"bL\":\n",
        "                    W1 -- weight matrix of shape (layers_dims[1], layers_dims[0])\n",
        "                    b1 -- bias vector of shape (layers_dims[1], 1)\n",
        "                    ...\n",
        "                    WL -- weight matrix of shape (layers_dims[L], layers_dims[L-1])\n",
        "                    bL -- bias vector of shape (layers_dims[L], 1)\n",
        "    \"\"\"\n",
        "    \n",
        "    np.random.seed(3)\n",
        "    parameters = {}\n",
        "    L = len(layers_dims) - 1 # integer representing the number of layers\n",
        "     \n",
        "    for l in range(1, L + 1):\n",
        "        ### START CODE HERE ### (≈ 2 lines of code)\n",
        "        parameters['W' + str(l)] = np.random.randn(layers_dims[l], layers_dims[l - 1]) * np.sqrt(2./layers_dims[l-1])\n",
        "        parameters['b' + str(l)] = np.zeros((layers_dims[l],1))\n",
        "        ### END CODE HERE ###\n",
        "        \n",
        "    return parameters"
      ],
      "execution_count": null,
      "outputs": []
    },
    {
      "cell_type": "code",
      "metadata": {
        "id": "tq3apkzQ3AGh",
        "colab": {
          "base_uri": "https://localhost:8080/"
        },
        "outputId": "821848a8-0265-4775-d11d-31928bf2761c"
      },
      "source": [
        "parameters = initialize_parameters_he([2, 4, 1])\n",
        "print(\"W1 = \" + str(parameters[\"W1\"]))\n",
        "print(\"b1 = \" + str(parameters[\"b1\"]))\n",
        "print(\"W2 = \" + str(parameters[\"W2\"]))\n",
        "print(\"b2 = \" + str(parameters[\"b2\"]))"
      ],
      "execution_count": null,
      "outputs": [
        {
          "output_type": "stream",
          "name": "stdout",
          "text": [
            "W1 = [[ 1.78862847  0.43650985]\n",
            " [ 0.09649747 -1.8634927 ]\n",
            " [-0.2773882  -0.35475898]\n",
            " [-0.08274148 -0.62700068]]\n",
            "b1 = [[0.]\n",
            " [0.]\n",
            " [0.]\n",
            " [0.]]\n",
            "W2 = [[-0.03098412 -0.33744411 -0.92904268  0.62552248]]\n",
            "b2 = [[0.]]\n"
          ]
        }
      ]
    },
    {
      "cell_type": "markdown",
      "metadata": {
        "id": "AT4k3nitv0xS"
      },
      "source": [
        "**Expected Output**:\n",
        "\n",
        "<table> \n",
        "    <tr>\n",
        "    <td>\n",
        "    **W1**\n",
        "    </td>\n",
        "        <td>\n",
        "    [[ 1.78862847  0.43650985]\n",
        " [ 0.09649747 -1.8634927 ]\n",
        " [-0.2773882  -0.35475898]\n",
        " [-0.08274148 -0.62700068]]\n",
        "    </td>\n",
        "    </tr>\n",
        "    <tr>\n",
        "    <td>\n",
        "    **b1**\n",
        "    </td>\n",
        "        <td>\n",
        "    [[ 0.]\n",
        " [ 0.]\n",
        " [ 0.]\n",
        " [ 0.]]\n",
        "    </td>\n",
        "    </tr>\n",
        "    <tr>\n",
        "    <td>\n",
        "    **W2**\n",
        "    </td>\n",
        "        <td>\n",
        "    [[-0.03098412 -0.33744411 -0.92904268  0.62552248]]\n",
        "    </td>\n",
        "    </tr>\n",
        "    <tr>\n",
        "    <td>\n",
        "    **b2**\n",
        "    </td>\n",
        "        <td>\n",
        "    [[ 0.]]\n",
        "    </td>\n",
        "    </tr>\n",
        "\n",
        "</table> "
      ]
    },
    {
      "cell_type": "markdown",
      "metadata": {
        "id": "n9IEeakzv4IZ"
      },
      "source": [
        "Run the following code to train your model on 15,000 iterations using He initialization."
      ]
    },
    {
      "cell_type": "code",
      "metadata": {
        "id": "9d4Gt5kq3Du8"
      },
      "source": [
        "parameters = model(train_X, train_Y, initialization = \"he\")\n",
        "print (\"On the training set\")\n",
        "predictions_train = predict(train_X, train_Y, parameters)\n",
        "print (\"On the testing set\")\n",
        "predictions_test = predict(test_X, test_Y, parameters)"
      ],
      "execution_count": null,
      "outputs": []
    },
    {
      "cell_type": "markdown",
      "metadata": {
        "id": "h9AhqZtswCv0"
      },
      "source": [
        "**Expected Output**:\n",
        "\n",
        "<table> \n",
        "    <tr>\n",
        "        <td> **Train Accuracy**</td>\n",
        "        <td> 0.919 </td>\n",
        "    </tr>\n",
        "    <tr>\n",
        "        <td> **Test Accuracy**</td>\n",
        "        <td> 0.915 </td>\n",
        "    </tr>\n",
        "</table>"
      ]
    },
    {
      "cell_type": "code",
      "metadata": {
        "id": "B5ZUtg-53I-4"
      },
      "source": [
        "plt.title(\"Model with He initialization\")\n",
        "axes = plt.gca()\n",
        "axes.set_xlim([-0.75,0.40])\n",
        "axes.set_ylim([-0.75,0.65])\n",
        "plot_decision_boundary(lambda x: predict_dec(parameters, x.T), train_X, train_Y)"
      ],
      "execution_count": null,
      "outputs": []
    },
    {
      "cell_type": "markdown",
      "metadata": {
        "id": "69FkAguXwbVk"
      },
      "source": [
        "You have seen three different types of initializations. \n",
        "- Different initializations lead to different results\n",
        "- Random initialization is used to break symmetry and make sure different hidden units can learn different things\n",
        "- Don't intialize to values that are too large\n",
        "- *He* initialization works well for networks with ReLU activations. \n",
        "\n",
        "For the same number of iterations and same hyperparameters the comparison is:\n",
        "\n",
        "<table> \n",
        "    <tr>\n",
        "        <td>\n",
        "        **Model**\n",
        "        </td>\n",
        "        <td>\n",
        "        **Train accuracy**\n",
        "        </td>\n",
        "        <td>\n",
        "        **Problem/Comment**\n",
        "        </td>\n",
        "    </tr>\n",
        "        <td>\n",
        "        3-layer NN with zeros initialization\n",
        "        </td>\n",
        "        <td>\n",
        "        50%\n",
        "        </td>\n",
        "        <td>\n",
        "        fails to break symmetry\n",
        "        </td>\n",
        "    <tr>\n",
        "        <td>\n",
        "        3-layer NN with large random initialization\n",
        "        </td>\n",
        "        <td>\n",
        "        78%\n",
        "        </td>\n",
        "        <td>\n",
        "        too large weights \n",
        "        </td>\n",
        "    </tr>\n",
        "    <tr>\n",
        "        <td>\n",
        "        3-layer NN with He initialization\n",
        "        </td>\n",
        "        <td>\n",
        "        91%\n",
        "        </td>\n",
        "        <td>\n",
        "        recommended method\n",
        "        </td>\n",
        "    </tr>\n",
        "</table> "
      ]
    },
    {
      "cell_type": "markdown",
      "metadata": {
        "id": "dpAcGR-oyL8l"
      },
      "source": [
        "## 4 - Regularization\n",
        "\n",
        "\n",
        "Deep Learning models have so much flexibility and capacity that **overfitting can be a serious problem**, if the training dataset is not big enough.\n",
        "We will use regularization to solve the overfitting problem.\n",
        "\n",
        "- Regularization will help you reduce overfitting.\n",
        "- Regularization will drive your weights to lower values.\n",
        "- L2 regularization and Dropout are two very effective regularization techniques.\n",
        "\n",
        "\n",
        "You will first try the model without any regularization. Then, you will implement:\n",
        "- *L2 regularization* -- functions: \"`compute_cost_with_regularization()`\" and \"`backward_propagation_with_regularization()`\"\n",
        "- *Dropout* -- functions: \"`forward_propagation_with_dropout()`\" and \"`backward_propagation_with_dropout()`\"\n",
        "\n",
        "\n",
        "\n"
      ]
    },
    {
      "cell_type": "markdown",
      "metadata": {
        "id": "2sSj2KKbxhFO"
      },
      "source": [
        "### 4.1 - Non-regularized model\n",
        "\n",
        "You will first try a non-regularized model. Then you'll learn how to regularize it and decide which model you will choose to solve the French Football Corporation's problem. \n",
        "\n",
        "You will use the following neural network. This model can be used:\n",
        "- in *regularization mode* -- by setting the `lambd` input to a non-zero value. We use \"`lambd`\" instead of \"`lambda`\" because \"`lambda`\" is a reserved keyword in Python. \n",
        "- in *dropout mode* -- by setting the `keep_prob` to a value less than one\n",
        "\n",
        "In each part, you will run this model with the correct inputs so that it calls the functions you've implemented. Take a look at the code below to familiarize yourself with the model."
      ]
    },
    {
      "cell_type": "code",
      "metadata": {
        "id": "cyWrx7oqyL8l"
      },
      "source": [
        "def model(X, Y, learning_rate = 0.3, num_iterations = 30000, print_cost = True, lambd = 0, keep_prob = 1):\n",
        "    \"\"\"\n",
        "    Implements a three-layer neural network: LINEAR->RELU->LINEAR->RELU->LINEAR->SIGMOID.\n",
        "    \n",
        "    Arguments:\n",
        "    X -- input data, of shape (input size, number of examples)\n",
        "    Y -- true \"label\" vector (1 for blue dot / 0 for red dot), of shape (output size, number of examples)\n",
        "    learning_rate -- learning rate of the optimization\n",
        "    num_iterations -- number of iterations of the optimization loop\n",
        "    print_cost -- If True, print the cost every 10000 iterations\n",
        "    lambd -- regularization hyperparameter, scalar\n",
        "    keep_prob - probability of keeping a neuron active during drop-out, scalar.\n",
        "    \n",
        "    Returns:\n",
        "    parameters -- parameters learned by the model. They can then be used to predict.\n",
        "    \"\"\"\n",
        "        \n",
        "    grads = {}\n",
        "    costs = []                            # to keep track of the cost\n",
        "    m = X.shape[1]                        # number of examples\n",
        "    layers_dims = [X.shape[0], 20, 3, 1]\n",
        "    \n",
        "    # Initialize parameters dictionary.\n",
        "    parameters = initialize_parameters(layers_dims)\n",
        "\n",
        "    # Loop (gradient descent)\n",
        "\n",
        "    for i in range(0, num_iterations):\n",
        "\n",
        "        # Forward propagation: LINEAR -> RELU -> LINEAR -> RELU -> LINEAR -> SIGMOID.\n",
        "        if keep_prob == 1:\n",
        "            a3, cache = forward_propagation(X, parameters)\n",
        "        elif keep_prob < 1:\n",
        "            a3, cache = forward_propagation_with_dropout(X, parameters, keep_prob)\n",
        "        \n",
        "        # Cost function\n",
        "        if lambd == 0:\n",
        "            cost = compute_cost(a3, Y)\n",
        "        else:\n",
        "            cost = compute_cost_with_regularization(a3, Y, parameters, lambd)\n",
        "            \n",
        "        # Backward propagation.\n",
        "        assert(lambd==0 or keep_prob==1)    # it is possible to use both L2 regularization and dropout, \n",
        "                                            # but this assignment will only explore one at a time\n",
        "        if lambd == 0 and keep_prob == 1:\n",
        "            grads = backward_propagation(X, Y, cache)\n",
        "        elif lambd != 0:\n",
        "            grads = backward_propagation_with_regularization(X, Y, cache, lambd)\n",
        "        elif keep_prob < 1:\n",
        "            grads = backward_propagation_with_dropout(X, Y, cache, keep_prob)\n",
        "        \n",
        "        # Update parameters.\n",
        "        parameters = update_parameters(parameters, grads, learning_rate)\n",
        "        \n",
        "        # Print the loss every 10000 iterations\n",
        "        if print_cost and i % 10000 == 0:\n",
        "            print(\"Cost after iteration {}: {}\".format(i, cost))\n",
        "        if print_cost and i % 1000 == 0:\n",
        "            costs.append(cost)\n",
        "    \n",
        "    # plot the cost\n",
        "    plt.plot(costs)\n",
        "    plt.ylabel('cost')\n",
        "    plt.xlabel('iterations (x1,000)')\n",
        "    plt.title(\"Learning rate =\" + str(learning_rate))\n",
        "    plt.show()\n",
        "    \n",
        "    return parameters"
      ],
      "execution_count": null,
      "outputs": []
    },
    {
      "cell_type": "markdown",
      "metadata": {
        "id": "niCbUsMzyL9R"
      },
      "source": [
        "Let's train the model without any regularization, and observe the accuracy on the train/test sets."
      ]
    },
    {
      "cell_type": "code",
      "metadata": {
        "scrolled": false,
        "id": "YAOEM-ztyL9R",
        "colab": {
          "base_uri": "https://localhost:8080/",
          "height": 417
        },
        "outputId": "72d9f6e5-b1cc-4785-baee-96a46c764fbb"
      },
      "source": [
        "parameters = model(train_X, train_Y)\n",
        "print (\"On the train set:\")\n",
        "predictions_train = predict(train_X, train_Y, parameters)\n",
        "print (\"On the test set:\")\n",
        "predictions_test = predict(test_X, test_Y, parameters)"
      ],
      "execution_count": null,
      "outputs": [
        {
          "output_type": "stream",
          "name": "stdout",
          "text": [
            "Cost after iteration 0: 0.6557412523481002\n",
            "Cost after iteration 10000: 0.1632998752572417\n",
            "Cost after iteration 20000: 0.13851642423284755\n"
          ]
        },
        {
          "output_type": "display_data",
          "data": {
            "text/plain": [
              "<Figure size 432x288 with 1 Axes>"
            ],
            "image/png": "[encoded data removed]"
          },
          "metadata": {
            "needs_background": "light"
          }
        },
        {
          "output_type": "stream",
          "name": "stdout",
          "text": [
            "On the train set:\n",
            "Accuracy: 0.9478672985781991\n",
            "On the test set:\n",
            "Accuracy: 0.915\n"
          ]
        }
      ]
    },
    {
      "cell_type": "markdown",
      "metadata": {
        "id": "_G6pvIGXyL9T"
      },
      "source": [
        "The train accuracy is 94.8% while the test accuracy is 91.5%. This is the **baseline model** (you will observe the impact of regularization on this model). Run the following code to plot the decision boundary of your model."
      ]
    },
    {
      "cell_type": "code",
      "metadata": {
        "scrolled": false,
        "id": "nvANKbxUyL9T"
      },
      "source": [
        "plt.title(\"Model without regularization\")\n",
        "axes = plt.gca()\n",
        "axes.set_xlim([-0.75,0.40])\n",
        "axes.set_ylim([-0.75,0.65])\n",
        "plot_decision_boundary(lambda x: predict_dec(parameters, x.T), train_X, train_Y)"
      ],
      "execution_count": null,
      "outputs": []
    },
    {
      "cell_type": "markdown",
      "metadata": {
        "id": "g5ZX60d9yL9W"
      },
      "source": [
        "The non-regularized model is obviously overfitting the training set. It is fitting the noisy points! Lets now look at two techniques to reduce overfitting."
      ]
    },
    {
      "cell_type": "markdown",
      "metadata": {
        "id": "gRHA1JK6yL9X"
      },
      "source": [
        "### 4.2 - L2 Regularization\n",
        "\n",
        "The standard way to avoid overfitting is called **L2 regularization**. \n",
        "\n",
        "L2-regularization relies on the assumption that a model with small weights is simpler than a model with large weights. Thus, by penalizing the square values of the weights in the cost function you drive all the weights to smaller values. It becomes too costly for the cost to have large weights! This leads to a smoother model in which the output changes more slowly as the input changes.\n",
        "\n",
        "\n",
        "It consists of appropriately modifying your cost function, from:\n",
        "$$J = -\\frac{1}{m} \\sum\\limits_{i = 1}^{m} \\large{(}\\small  y^{(i)}\\log\\left(a^{[L](i)}\\right) + (1-y^{(i)})\\log\\left(1- a^{[L](i)}\\right) \\large{)} \\tag{1}$$\n",
        "To:\n",
        "$$J_{regularized} = \\small \\underbrace{-\\frac{1}{m} \\sum\\limits_{i = 1}^{m} \\large{(}\\small y^{(i)}\\log\\left(a^{[L](i)}\\right) + (1-y^{(i)})\\log\\left(1- a^{[L](i)}\\right) \\large{)} }_\\text{cross-entropy cost} + \\underbrace{\\frac{1}{m} \\frac{\\lambda}{2} \\sum\\limits_l\\sum\\limits_k\\sum\\limits_j W_{k,j}^{[l]2} }_\\text{L2 regularization cost} \\tag{2}$$\n",
        "\n",
        "Let's modify your cost and observe the consequences.\n",
        "\n",
        "\n",
        "\n",
        " Implement `compute_cost_with_regularization()` which computes the cost given by formula (2). To calculate $\\sum\\limits_k\\sum\\limits_j W_{k,j}^{[l]2}$  , use :\n",
        "```python\n",
        "np.sum(np.square(Wl))\n",
        "```\n",
        "Note that you have to do this for $W^{[1]}$, $W^{[2]}$ and $W^{[3]}$, then sum the three terms and multiply by $ \\frac{1}{m} \\frac{\\lambda}{2} $."
      ]
    },
    {
      "cell_type": "code",
      "metadata": {
        "id": "C0phqJXFyL9X"
      },
      "source": [
        "def compute_cost_with_regularization(A3, Y, parameters, lambd):\n",
        "    \"\"\"\n",
        "    Implement the cost function with L2 regularization. See formula (2) above.\n",
        "    \n",
        "    Arguments:\n",
        "    A3 -- post-activation, output of forward propagation, of shape (output size, number of examples)\n",
        "    Y -- \"true\" labels vector, of shape (output size, number of examples)\n",
        "    parameters -- python dictionary containing parameters of the model\n",
        "    \n",
        "    Returns:\n",
        "    cost - value of the regularized loss function (formula (2))\n",
        "    \"\"\"\n",
        "    m = Y.shape[1]\n",
        "    W1 = parameters[\"W1\"]\n",
        "    W2 = parameters[\"W2\"]\n",
        "    W3 = parameters[\"W3\"]\n",
        "    \n",
        "    cross_entropy_cost = compute_cost(A3, Y) # This gives you the cross-entropy part of the cost\n",
        "    \n",
        "    ### START CODE HERE ### (approx. 1 line)\n",
        "    L2_regularization_cost = lambd / (m * 2) * (np.sum(np.square(W1)) + np.sum(np.square(W2)) + np.sum(np.square(W3)) )\n",
        "    ### END CODER HERE ###\n",
        "    \n",
        "    cost = cross_entropy_cost + L2_regularization_cost\n",
        "    \n",
        "    return cost"
      ],
      "execution_count": null,
      "outputs": []
    },
    {
      "cell_type": "code",
      "metadata": {
        "id": "octY2vQ8yL9Z",
        "colab": {
          "base_uri": "https://localhost:8080/"
        },
        "outputId": "15920f3c-f973-4cd0-a029-f9d0df697d5a"
      },
      "source": [
        "A3, Y_assess, parameters = compute_cost_with_regularization_test_case()\n",
        "\n",
        "print(\"cost = \" + str(compute_cost_with_regularization(A3, Y_assess, parameters, lambd = 0.1)))"
      ],
      "execution_count": null,
      "outputs": [
        {
          "output_type": "stream",
          "name": "stdout",
          "text": [
            "cost = 1.7864859451590758\n"
          ]
        }
      ]
    },
    {
      "cell_type": "markdown",
      "metadata": {
        "id": "9Pfpr2PCyL9b"
      },
      "source": [
        "**Expected Output**: \n",
        "\n",
        "<table> \n",
        "    <tr>\n",
        "    <td>\n",
        "    **cost**\n",
        "    </td>\n",
        "        <td>\n",
        "    1.78648594516\n",
        "    </td>   \n",
        "    </tr>\n",
        "\n",
        "</table> "
      ]
    },
    {
      "cell_type": "markdown",
      "metadata": {
        "id": "WsPwhSI-yL9b"
      },
      "source": [
        "Of course, because you changed the cost, you have to change backward propagation as well! All the gradients have to be computed with respect to this new cost. \n",
        "\n",
        "Now, Implement the changes needed in backward propagation to take into account regularization. The changes only concern dW1, dW2 and dW3. For each, you have to add the regularization term's gradient ($\\frac{d}{dW} ( \\frac{1}{2}\\frac{\\lambda}{m}  W^2) = \\frac{\\lambda}{m} W$).\n",
        "\n",
        "The three outputs $(dW^{[l]}, db^{[l]}, dA^{[l-1]})$ are computed using the input $dZ^{[l]}$. Here are the formulas you need:\n",
        "$$ dW^{[l]} = \\frac{1}{m} dZ^{[l]} A^{[l-1] T} $$\n",
        "$$ db^{[l]} = \\frac{1}{m} \\sum_{i = 1}^{m} dZ^{[l](i)}$$\n",
        "$$ dA^{[l-1]} = W^{[l] T} dZ^{[l]} $$\n",
        "\n",
        "\n",
        "**Note:** If $g(.)$ is the ReLU activation function, \n",
        " compute $$dZ^{[l]} = dA^{[l]} * g'(Z^{[l]}) $$   `dZl` can be calculated by the following code: `np.multiply(dAl, np.int64(Al > 0)` where np.int64(Al > 0) calculates the derivative of the activation function, ReLU."
      ]
    },
    {
      "cell_type": "code",
      "metadata": {
        "id": "gdTZWmTgyL9b"
      },
      "source": [
        "def backward_propagation_with_regularization(X, Y, cache, lambd):\n",
        "    \"\"\"\n",
        "    Implements the backward propagation of our baseline model to which we added an L2 regularization.\n",
        "    \n",
        "    Arguments:\n",
        "    X -- input dataset, of shape (input size, number of examples)\n",
        "    Y -- \"true\" labels vector, of shape (output size, number of examples)\n",
        "    cache -- cache output from forward_propagation()\n",
        "    lambd -- regularization hyperparameter, scalar\n",
        "    \n",
        "    Returns:\n",
        "    gradients -- A dictionary with the gradients with respect to each parameter, activation and pre-activation variables\n",
        "    \"\"\"\n",
        "    \n",
        "    m = X.shape[1]\n",
        "    (Z1, A1, W1, b1, Z2, A2, W2, b2, Z3, A3, W3, b3) = cache\n",
        "    \n",
        "    dZ3 = A3 - Y\n",
        "    \n",
        "    # Calculate dW3 and db3 \n",
        "    ### START CODE HERE ### (approx. 2 line)\n",
        "    dW3 = 1./m * np.dot(dZ3, A2.T) + lambd * W3 / m\n",
        "    db3 = 1./m * np.sum(dZ3, axis=1, keepdims = True)\n",
        "    ### END CODE HERE ###\n",
        "\n",
        "    # Calculate dA2, dZ2, dW2 and db2 \n",
        "    ### START CODE HERE ### (approx. 4 line)\n",
        "    dA2 = np.dot(W3.T, dZ3)\n",
        "    dZ2 = np.multiply(dA2, np.int64(A2 > 0))\n",
        "                                      # Hint:  Use this to calculate dZ2: np.multiply(dA2, np.int64(A2 > 0))\n",
        "    dW2 = 1./m * np.dot(dZ2, A1.T) + lambd * W2 /m\n",
        "    db2 = 1./m * np.sum(dZ2, axis=1, keepdims = True)\n",
        "\n",
        "    ### END CODE HERE ###\n",
        "    \n",
        "    \n",
        "    # Calculate dA1, dZ1, dW1 and db1 \n",
        "    ### START CODE HERE ### (approx. 4 line)\n",
        "    dA1 = np.dot(W2.T, dZ2)\n",
        "    dZ1 = np.multiply(dA1, np.int64(A1 > 0))\n",
        "    dW1 = 1./m * np.dot(dZ1, X.T) + lambd * W1 /m\n",
        "    db1 = 1./m * np.sum(dZ1, axis=1, keepdims = True)\n",
        "                                      # Hint:  calculate dZ1 similar to dZ2\n",
        "\n",
        "\n",
        "    ### END CODE HERE ###\n",
        "    \n",
        "    \n",
        "    gradients = {\"dZ3\": dZ3, \"dW3\": dW3, \"db3\": db3,\"dA2\": dA2,\n",
        "                 \"dZ2\": dZ2, \"dW2\": dW2, \"db2\": db2, \"dA1\": dA1, \n",
        "                 \"dZ1\": dZ1, \"dW1\": dW1, \"db1\": db1}\n",
        "    \n",
        "    return gradients"
      ],
      "execution_count": null,
      "outputs": []
    },
    {
      "cell_type": "code",
      "metadata": {
        "id": "2Yc2JqY0yL9e",
        "colab": {
          "base_uri": "https://localhost:8080/"
        },
        "outputId": "0009e226-ce71-434f-fe17-dc4a38009d5d"
      },
      "source": [
        "X_assess, Y_assess, cache = backward_propagation_with_regularization_test_case()\n",
        "\n",
        "grads = backward_propagation_with_regularization(X_assess, Y_assess, cache, lambd = 0.7)\n",
        "print (\"dW1 = \\n\"+ str(grads[\"dW1\"]))\n",
        "print (\"dW2 = \\n\"+ str(grads[\"dW2\"]))\n",
        "print (\"dW3 = \\n\"+ str(grads[\"dW3\"]))"
      ],
      "execution_count": null,
      "outputs": [
        {
          "output_type": "stream",
          "name": "stdout",
          "text": [
            "dW1 = \n",
            "[[-0.25604646  0.12298827 -0.28297129]\n",
            " [-0.17706303  0.34536094 -0.4410571 ]]\n",
            "dW2 = \n",
            "[[ 0.79276486  0.85133918]\n",
            " [-0.0957219  -0.01720463]\n",
            " [-0.13100772 -0.03750433]]\n",
            "dW3 = \n",
            "[[-1.77691347 -0.11832879 -0.09397446]]\n"
          ]
        }
      ]
    },
    {
      "cell_type": "markdown",
      "metadata": {
        "id": "AvBqXl3MyL9l"
      },
      "source": [
        "**Expected Output**:\n",
        "\n",
        "```\n",
        "dW1 = \n",
        "[[-0.25604646  0.12298827 -0.28297129]\n",
        " [-0.17706303  0.34536094 -0.4410571 ]]\n",
        "dW2 = \n",
        "[[ 0.79276486  0.85133918]\n",
        " [-0.0957219  -0.01720463]\n",
        " [-0.13100772 -0.03750433]]\n",
        "dW3 = \n",
        "[[-1.77691347 -0.11832879 -0.09397446]]\n",
        "```"
      ]
    },
    {
      "cell_type": "markdown",
      "metadata": {
        "id": "mRNUG4DVyL9m"
      },
      "source": [
        "Let's now run the model with L2 regularization $(\\lambda = 0.7)$. The `model()` function will call: \n",
        "- `compute_cost_with_regularization` instead of `compute_cost`\n",
        "- `backward_propagation_with_regularization` instead of `backward_propagation`"
      ]
    },
    {
      "cell_type": "code",
      "metadata": {
        "scrolled": false,
        "id": "6XeS6-ujyL9n"
      },
      "source": [
        "parameters = model(train_X, train_Y, lambd = 0.7)\n",
        "print (\"On the train set:\")\n",
        "predictions_train = predict(train_X, train_Y, parameters)\n",
        "print (\"On the test set:\")\n",
        "predictions_test = predict(test_X, test_Y, parameters)"
      ],
      "execution_count": null,
      "outputs": []
    },
    {
      "cell_type": "markdown",
      "metadata": {
        "id": "3bBQRtwPyL9w"
      },
      "source": [
        "Congrats, the test set accuracy increased to 93%. You have saved the French football team!\n",
        "\n",
        "You are not overfitting the training data anymore. Let's plot the decision boundary."
      ]
    },
    {
      "cell_type": "code",
      "metadata": {
        "id": "Zmcfgpf0yL9w"
      },
      "source": [
        "plt.title(\"Model with L2-regularization\")\n",
        "axes = plt.gca()\n",
        "axes.set_xlim([-0.75,0.40])\n",
        "axes.set_ylim([-0.75,0.65])\n",
        "plot_decision_boundary(lambda x: predict_dec(parameters, x.T), train_X, train_Y)"
      ],
      "execution_count": null,
      "outputs": []
    },
    {
      "cell_type": "markdown",
      "metadata": {
        "id": "RaRzp-3myL9y"
      },
      "source": [
        "Hence,\n",
        "- The value of $\\lambda$ is a hyperparameter that you can tune using a validation set.\n",
        "- L2 regularization makes your decision boundary smoother. If $\\lambda$ is too large, it is also possible to \"oversmooth\", resulting in a model with high bias.\n",
        "\n",
        "The implications of L2-regularization on:\n",
        "- The cost computation:\n",
        "    - A regularization term is added to the cost\n",
        "- The backpropagation function:\n",
        "    - There are extra terms in the gradients with respect to weight matrices\n",
        "- Weights end up smaller (\"weight decay\"): \n",
        "    - Weights are pushed to smaller values.\n",
        "\n",
        " \n",
        " "
      ]
    },
    {
      "cell_type": "markdown",
      "metadata": {
        "id": "auanyfvciYoJ"
      },
      "source": [
        "### 4.3 - Dropout\n",
        "\n",
        "Finally, **dropout** is a widely used regularization technique that is specific to deep learning. \n",
        "**It randomly shuts down some neurons in each iteration.** Watch these two videos to see what this means!\n",
        "\n",
        "\n",
        "To understand drop-out, consider this conversation with a friend:\n",
        "- Friend: \"Why do you need all these neurons to train your network and classify images?\". \n",
        "- You: \"Because each neuron contains a weight and can learn specific features/details/ shape of an image. The more neurons I have, the more featurse my model learns!\"\n",
        "- Friend: \"I see, but are you sure that your neurons are learning different features and not all the same features?\"\n",
        "- You: \"Good point... Neurons in the same layer actually don't talk to each other. It should be definitly possible that they learn the same image features/shapes/ forms/ details... which would be redundant. There should be a solution.\"\n",
        "\n",
        "When you shut some neurons down, you actually modify your model. The idea behind drop-out is that at each iteration, you train a different model that uses only a subset of your neurons. With dropout, your neurons thus become less sensitive to the activation of one other specific neuron, because that other neuron might be shut down at any time. \n",
        "\n",
        "Check the example below which illustrates how the dropout works:"
      ]
    },
    {
      "cell_type": "code",
      "metadata": {
        "id": "TezAxJ2Zhvfs"
      },
      "source": [
        "from IPython.display import Image \n",
        "Image(open('/content/drive/My Drive/Deep_learning_unit/Assignment5/images/dropout.gif','rb').read())"
      ],
      "execution_count": null,
      "outputs": []
    },
    {
      "cell_type": "markdown",
      "metadata": {
        "id": "FvAre4JcyL9y"
      },
      "source": [
        "**Forward propagation with dropout**\n",
        "\n",
        "Implement the forward propagation with dropout. You are using a 3 layer neural network, and will add dropout to the first and second hidden layers. We will not apply dropout to the input layer or output layer. \n",
        "\n",
        "**Instructions**:\n",
        "You would like to shut down some neurons in the first and second layers. To do that, you are going to carry out 4 Steps:\n",
        "1. In lecture, we dicussed creating a variable $d^{[1]}$ with the same shape as $a^{[1]}$ using `np.random.rand()` to randomly get numbers between 0 and 1. Here, you will use a vectorized implementation, so create a random matrix $D^{[1]} = [d^{[1](1)} d^{[1](2)} ... d^{[1](m)}] $ of the same dimension as $A^{[1]}$.\n",
        "2. Set each entry of $D^{[1]}$ to be 1 with probability (`keep_prob`), and 0 otherwise.\n",
        "\n",
        "**Hint:** Let's say that keep_prob = 0.8, which means that we want to keep about 80% of the neurons and drop out about 20% of them.  We want to generate a vector that has 1's and 0's, where about 80% of them are 1 and about 20% are 0.\n",
        "This python statement:  \n",
        "`X = (X < keep_prob).astype(int)`  \n",
        "\n",
        "is conceptually the same as this if-else statement (for the simple case of a one-dimensional array) :\n",
        "\n",
        "```\n",
        "for i,v in enumerate(x):\n",
        "    if v < keep_prob:\n",
        "        x[i] = 1\n",
        "    else: # v >= keep_prob\n",
        "        x[i] = 0\n",
        "```\n",
        "Note that the `X = (X < keep_prob).astype(int)` works with multi-dimensional arrays, and the resulting output preserves the dimensions of the input array.\n",
        "\n",
        "Also note that without using `.astype(int)`, the result is an array of booleans `True` and `False`, which Python automatically converts to 1 and 0 if we multiply it with numbers.  (However, it's better practice to convert data into the data type that we intend, so try using `.astype(int)`.)\n",
        "\n",
        "3. Set $A^{[1]}$ to $A^{[1]} * D^{[1]}$. (You are shutting down some neurons). You can think of $D^{[1]}$ as a mask, so that when it is multiplied with another matrix, it shuts down some of the values.\n",
        "4. Divide $A^{[1]}$ by `keep_prob`. By doing this you are assuring that the result of the cost will still have the same expected value as without drop-out. (This technique is also called inverted dropout.)"
      ]
    },
    {
      "cell_type": "code",
      "metadata": {
        "id": "_yOmWI4ZyL9y"
      },
      "source": [
        "def forward_propagation_with_dropout(X, parameters, keep_prob = 0.5):\n",
        "    \"\"\"\n",
        "    Implements the forward propagation: LINEAR -> RELU + DROPOUT -> LINEAR -> RELU + DROPOUT -> LINEAR -> SIGMOID.\n",
        "    \n",
        "    Arguments:\n",
        "    X -- input dataset, of shape (2, number of examples)\n",
        "    parameters -- python dictionary containing your parameters \"W1\", \"b1\", \"W2\", \"b2\", \"W3\", \"b3\":\n",
        "                    W1 -- weight matrix of shape (20, 2)\n",
        "                    b1 -- bias vector of shape (20, 1)\n",
        "                    W2 -- weight matrix of shape (3, 20)\n",
        "                    b2 -- bias vector of shape (3, 1)\n",
        "                    W3 -- weight matrix of shape (1, 3)\n",
        "                    b3 -- bias vector of shape (1, 1)\n",
        "    keep_prob - probability of keeping a neuron active during drop-out, scalar\n",
        "    \n",
        "    Returns:\n",
        "    A3 -- last activation value, output of the forward propagation, of shape (1,1)\n",
        "    cache -- tuple, information stored for computing the backward propagation\n",
        "    \"\"\"\n",
        "    \n",
        "    np.random.seed(1)\n",
        "    \n",
        "    # retrieve parameters\n",
        "    W1 = parameters[\"W1\"]\n",
        "    b1 = parameters[\"b1\"]\n",
        "    W2 = parameters[\"W2\"]\n",
        "    b2 = parameters[\"b2\"]\n",
        "    W3 = parameters[\"W3\"]\n",
        "    b3 = parameters[\"b3\"]\n",
        "    \n",
        "     # LINEAR -> RELU -> LINEAR -> RELU -> LINEAR -> SIGMOID\n",
        "     # Calculate Z1 and A1\n",
        "    ### START CODE HERE ### (approx. 2 line)\n",
        "    Z1 = np.dot(W1, X) + b1\n",
        "    A1 = relu(Z1)\n",
        "    ### END CODE HERE ###\n",
        "    ### START CODE HERE ### (approx. 4 lines)         \n",
        "    D1 = np.random.rand(A1.shape[0],A1.shape[1])                                                 # Step 1: initialize matrix D1 = np.random.rand(..., ...)\n",
        "    D1 = (D1 > keep_prob)                                                 # Step 2: convert entries of D1 to 0 or 1 (using keep_prob as the threshold), use .astype(int)\n",
        "    A1 = A1 * D1                                                  # Step 3: shut down some neurons of A1\n",
        "    A1 = A1 / keep_prob                                                 # Step 4: scale the value of neurons that haven't been shut down\n",
        "    ### END CODE HERE ###\n",
        "    \n",
        "    # Calculate Z2 and A2\n",
        "    ### START CODE HERE ### (approx. 2 line)\n",
        "    Z2 = np.dot(W2,A1) + b2\n",
        "    A2 = relu(Z2)\n",
        "\n",
        "    ### END CODE HERE ###\n",
        "\n",
        "\n",
        "    ### START CODE HERE ### (approx. 4 lines)              # Steps 1-4 below correspond to the Steps 1-4 described above. \n",
        "    D2 = np.random.randn(A2.shape[0],A2.shape[1])                                                  # Step 1: initialize matrix D2 = np.random.rand(..., ...)\n",
        "    D2 = (D2 > keep_prob)                                                  # Step 2: convert entries of D2 to 0 or 1 (using keep_prob as the threshold), use .astype(int)\n",
        "    A2 = A2 * D2                                                  # Step 3: shut down some neurons of A2\n",
        "    A2 = A2 / keep_prob                                                 # Step 4: scale the value of neurons that haven't been shut down\n",
        "    ### END CODE HERE ###\n",
        "    \n",
        "    \n",
        "    # Calculate Z3 and A3\n",
        "    ### START CODE HERE ### (approx. 2 line)\n",
        "    Z3 = np.dot(W3, A2) + b3\n",
        "    A3 = sigmoid(Z3)\n",
        "\n",
        "    ### END CODE HERE ###\n",
        "    \n",
        "    cache = (Z1, D1, A1, W1, b1, Z2, D2, A2, W2, b2, Z3, A3, W3, b3)\n",
        "    \n",
        "    return A3, cache"
      ],
      "execution_count": null,
      "outputs": []
    },
    {
      "cell_type": "code",
      "metadata": {
        "id": "z5Qw_Z5NyL93",
        "colab": {
          "base_uri": "https://localhost:8080/"
        },
        "outputId": "cbeccde9-827c-47a0-f520-c30412ad0d0e"
      },
      "source": [
        "X_assess, parameters = forward_propagation_with_dropout_test_case()\n",
        "\n",
        "A3, cache = forward_propagation_with_dropout(X_assess, parameters, keep_prob = 0.7)\n",
        "print (\"A3 = \" + str(A3))"
      ],
      "execution_count": null,
      "outputs": [
        {
          "output_type": "stream",
          "name": "stdout",
          "text": [
            "A3 = [[0.36974721 0.49683389 0.49683389 0.49683389 0.36974721]]\n"
          ]
        }
      ]
    },
    {
      "cell_type": "markdown",
      "metadata": {
        "id": "C8yCYD5HyL99"
      },
      "source": [
        "**Expected Output**: \n",
        "\n",
        "<table> \n",
        "    <tr>\n",
        "    <td>\n",
        "    **A3**\n",
        "    </td>\n",
        "        <td>\n",
        "    [[ 0.36974721  0.00305176  0.04565099  0.49683389  0.36974721]]\n",
        "    </td>    \n",
        "    </tr>\n",
        "\n",
        "</table> "
      ]
    },
    {
      "cell_type": "markdown",
      "metadata": {
        "id": "eWcOW_0NyL9-"
      },
      "source": [
        "** Backward propagation with dropout**\n",
        "\n",
        " Implement the backward propagation with dropout. As before, you are training a 3 layer network. Add dropout to the first and second hidden layers, using the masks $D^{[1]}$ and $D^{[2]}$ stored in the cache. \n",
        "\n",
        "**Instruction**:\n",
        "Backpropagation with dropout is actually quite easy. You will have to carry out 2 Steps:\n",
        "1. You had previously shut down some neurons during forward propagation, by applying a mask $D^{[1]}$ to `A1`. In backpropagation, you will have to shut down the same neurons, by reapplying the same mask $D^{[1]}$ to `dA1`. \n",
        "2. During forward propagation, you had divided `A1` by `keep_prob`. In backpropagation, you'll therefore have to divide `dA1` by `keep_prob` again (the calculus interpretation is that if $A^{[1]}$ is scaled by `keep_prob`, then its derivative $dA^{[1]}$ is also scaled by the same `keep_prob`).\n",
        "\n",
        "The three outputs $(dW^{[l]}, db^{[l]}, dA^{[l-1]})$ are computed using the input $dZ^{[l]}$. Here are the formulas you need:\n",
        "$$ dW^{[l]} = \\frac{1}{m} dZ^{[l]} A^{[l-1] T} $$\n",
        "$$ db^{[l]} = \\frac{1}{m} \\sum_{i = 1}^{m} dZ^{[l](i)}$$\n",
        "$$ dA^{[l-1]} = W^{[l] T} dZ^{[l]} $$\n"
      ]
    },
    {
      "cell_type": "code",
      "metadata": {
        "id": "ShtkWb5wyL9-"
      },
      "source": [
        "def backward_propagation_with_dropout(X, Y, cache, keep_prob):\n",
        "    \"\"\"\n",
        "    Implements the backward propagation of our baseline model to which we added dropout.\n",
        "    \n",
        "    Arguments:\n",
        "    X -- input dataset, of shape (2, number of examples)\n",
        "    Y -- \"true\" labels vector, of shape (output size, number of examples)\n",
        "    cache -- cache output from forward_propagation_with_dropout()\n",
        "    keep_prob - probability of keeping a neuron active during drop-out, scalar\n",
        "    \n",
        "    Returns:\n",
        "    gradients -- A dictionary with the gradients with respect to each parameter, activation and pre-activation variables\n",
        "    \"\"\"\n",
        "    \n",
        "    m = X.shape[1]\n",
        "    (Z1, D1, A1, W1, b1, Z2, D2, A2, W2, b2, Z3, A3, W3, b3) = cache\n",
        "    \n",
        "    dZ3 = A3 - Y\n",
        "    dW3 = 1./m * np.dot(dZ3, A2.T)\n",
        "    db3 = 1./m * np.sum(dZ3, axis=1, keepdims = True)\n",
        "    dA2 = np.dot(W3.T, dZ3)\n",
        "    ### START CODE HERE ### (≈ 2 lines of code)\n",
        "    dA2 = dA2 * D2                              # Step 1: Apply mask D2 to shut down the same neurons as during the forward propagation\n",
        "    dA2 = dA2 / keep_prob                                # Step 2: Scale the value of neurons that haven't been shut down\n",
        "    ### END CODE HERE ###\n",
        "    dZ2 = np.multiply(dA2, np.int64(A2 > 0))\n",
        "    dW2 = 1./m * np.dot(dZ2, A1.T)\n",
        "    db2 = 1./m * np.sum(dZ2, axis=1, keepdims = True)\n",
        "    \n",
        "    dA1 = np.dot(W2.T, dZ2)\n",
        "    ### START CODE HERE ### (≈ 2 lines of code)\n",
        "    dA1 =  dA1 * D1                                # Step 1: Apply mask D1 to shut down the same neurons as during the forward propagation\n",
        "    dA1 =  dA1 / keep_prob                                # Step 2: Scale the value of neurons that haven't been shut down\n",
        "    ### END CODE HERE ###\n",
        "    dZ1 = np.multiply(dA1, np.int64(A1 > 0))\n",
        "    dW1 = 1./m * np.dot(dZ1, X.T)\n",
        "    db1 = 1./m * np.sum(dZ1, axis=1, keepdims = True)\n",
        "    \n",
        "    gradients = {\"dZ3\": dZ3, \"dW3\": dW3, \"db3\": db3,\"dA2\": dA2,\n",
        "                 \"dZ2\": dZ2, \"dW2\": dW2, \"db2\": db2, \"dA1\": dA1, \n",
        "                 \"dZ1\": dZ1, \"dW1\": dW1, \"db1\": db1}\n",
        "    \n",
        "    return gradients"
      ],
      "execution_count": null,
      "outputs": []
    },
    {
      "cell_type": "code",
      "metadata": {
        "id": "0p0JKn_9yL-A",
        "colab": {
          "base_uri": "https://localhost:8080/"
        },
        "outputId": "b45c43a6-4d29-4e1d-f7d4-df65be2d482c"
      },
      "source": [
        "X_assess, Y_assess, cache = backward_propagation_with_dropout_test_case()\n",
        "\n",
        "gradients = backward_propagation_with_dropout(X_assess, Y_assess, cache, keep_prob = 0.8)\n",
        "\n",
        "print (\"dA1 = \\n\" + str(gradients[\"dA1\"]))\n",
        "print (\"dA2 = \\n\" + str(gradients[\"dA2\"]))"
      ],
      "execution_count": null,
      "outputs": [
        {
          "output_type": "stream",
          "name": "stdout",
          "text": [
            "dA1 = \n",
            "[[ 0.36544439  0.         -0.00188233  0.         -0.17408748]\n",
            " [ 0.65515713  0.         -0.00337459  0.         -0.        ]]\n",
            "dA2 = \n",
            "[[ 0.58180856  0.         -0.00299679  0.         -0.27715731]\n",
            " [ 0.          0.53159854 -0.          0.53159854 -0.34089673]\n",
            " [ 0.          0.         -0.00292733  0.         -0.        ]]\n"
          ]
        }
      ]
    },
    {
      "cell_type": "markdown",
      "metadata": {
        "id": "32FK1JTQyL-B"
      },
      "source": [
        "**Expected Output**: \n",
        "\n",
        "```\n",
        "dA1 = \n",
        "[[ 0.36544439  0.         -0.00188233  0.         -0.17408748]\n",
        " [ 0.65515713  0.         -0.00337459  0.         -0.        ]]\n",
        "dA2 = \n",
        "[[ 0.58180856  0.         -0.00299679  0.         -0.27715731]\n",
        " [ 0.          0.53159854 -0.          0.53159854 -0.34089673]\n",
        " [ 0.          0.         -0.00292733  0.         -0.        ]]\n",
        "```"
      ]
    },
    {
      "cell_type": "markdown",
      "metadata": {
        "id": "pMC_3O4WyL-B"
      },
      "source": [
        "Let's now run the model with dropout (`keep_prob = 0.86`). It means at every iteration you shut down each neurons of layer 1 and 2 with 14% probability. The function `model()` will now call:\n",
        "- `forward_propagation_with_dropout` instead of `forward_propagation`.\n",
        "- `backward_propagation_with_dropout` instead of `backward_propagation`."
      ]
    },
    {
      "cell_type": "code",
      "metadata": {
        "id": "MmvogHgKyL-C"
      },
      "source": [
        "parameters = model(train_X, train_Y, keep_prob = 0.86, learning_rate = 0.3)\n",
        "\n",
        "print (\"On the train set:\")\n",
        "predictions_train = predict(train_X, train_Y, parameters)\n",
        "print (\"On the test set:\")\n",
        "predictions_test = predict(test_X, test_Y, parameters)"
      ],
      "execution_count": null,
      "outputs": []
    },
    {
      "cell_type": "markdown",
      "metadata": {
        "id": "xds80PcRyL-F"
      },
      "source": [
        "Dropout works great! The test accuracy has increased again (to 95%)! Your model is not overfitting the training set and does a great job on the test set. The French football team will be forever grateful to you! \n",
        "\n",
        "Run the code below to plot the decision boundary."
      ]
    },
    {
      "cell_type": "code",
      "metadata": {
        "id": "vKlOGQFbyL-F"
      },
      "source": [
        "plt.title(\"Model with dropout\")\n",
        "axes = plt.gca()\n",
        "axes.set_xlim([-0.75,0.40])\n",
        "axes.set_ylim([-0.75,0.65])\n",
        "plot_decision_boundary(lambda x: predict_dec(parameters, x.T), train_X, train_Y)"
      ],
      "execution_count": null,
      "outputs": []
    },
    {
      "cell_type": "markdown",
      "metadata": {
        "id": "vrSHnbs6yL-M"
      },
      "source": [
        "\n",
        "- A **common mistake** when using dropout is to use it both in training and testing. You should use dropout (randomly eliminate nodes) only in training. \n",
        "- Deep learning frameworks like [tensorflow](https://www.tensorflow.org/api_docs/python/tf/nn/dropout), [keras](https://keras.io/layers/core/#dropout) come with a dropout layer implementation. We will be using those in directly in the future assignments.\n",
        "\n",
        "\n",
        "Thus, it can be concluded that:\n",
        "- Dropout is a regularization technique.\n",
        "- You only use dropout during training. Don't use dropout (randomly eliminate nodes) during test time.\n",
        "- Apply dropout both during forward and backward propagation.\n",
        "- During training time, divide each dropout layer by keep_prob to keep the same expected value for the activations. For example, if keep_prob is 0.5, then we will on average shut down half the nodes, so the output will be scaled by 0.5 since only the remaining half are contributing to the solution. Dividing by 0.5 is equivalent to multiplying by 2. Hence, the output now has the same expected value. You can check that this works even when keep_prob is other values than 0.5.  "
      ]
    },
    {
      "cell_type": "markdown",
      "metadata": {
        "id": "0CIGvhaWyL-N"
      },
      "source": [
        "**Here are the results of our three models**: \n",
        "\n",
        "<table> \n",
        "    <tr>\n",
        "        <td>\n",
        "        **model**\n",
        "        </td>\n",
        "        <td>\n",
        "        **train accuracy**\n",
        "        </td>\n",
        "        <td>\n",
        "        **test accuracy**\n",
        "        </td>\n",
        "    </tr>\n",
        "        <td>\n",
        "        3-layer NN without regularization\n",
        "        </td>\n",
        "        <td>\n",
        "        95%\n",
        "        </td>\n",
        "        <td>\n",
        "        91.5%\n",
        "        </td>\n",
        "    <tr>\n",
        "        <td>\n",
        "        3-layer NN with L2-regularization\n",
        "        </td>\n",
        "        <td>\n",
        "        94%\n",
        "        </td>\n",
        "        <td>\n",
        "        93%\n",
        "        </td>\n",
        "    </tr>\n",
        "    <tr>\n",
        "        <td>\n",
        "        3-layer NN with dropout\n",
        "        </td>\n",
        "        <td>\n",
        "        93%\n",
        "        </td>\n",
        "        <td>\n",
        "        95%\n",
        "        </td>\n",
        "    </tr>\n",
        "</table> "
      ]
    },
    {
      "cell_type": "markdown",
      "metadata": {
        "id": "DeetSwGZyL-N"
      },
      "source": [
        "Note that regularization hurts training set performance! This is because it limits the ability of the network to overfit to the training set. But since it ultimately gives better test accuracy, it is helping your system. "
      ]
    }
  ]
}